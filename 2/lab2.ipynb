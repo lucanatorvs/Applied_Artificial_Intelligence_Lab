{
 "cells": [
  {
   "cell_type": "markdown",
   "metadata": {},
   "source": [
    "# Applied Artificial Intelligence - Lab 2\n",
    "\n",
    "Luca van Straaten - 18073611\n",
    "\n",
    "## Preparation\n",
    "\n",
    "First I uninstalled anaconda by:\n",
    "- removing the lines from my .config/fish/config.fish\n",
    "- removing the path from fish\n",
    "- `brew uninstall anaconda`\n",
    "\n",
    "Than I installed miniconda by:\n",
    "\n",
    "```fish\n",
    "brew install miniconda\n",
    "```\n",
    "\n",
    "That was easy.\n",
    "\n",
    " ut I did not install the newest version of conda, so I had to update it by:\n",
    "\n",
    "```fish\n",
    "conda update -n base -c defaults conda\n",
    "```\n",
    "\n",
    "And I recreated the environment with python 3.10:\n",
    "\n",
    "```fish\n",
    "conda create -n aai_lab python=3.10\n",
    "conda activate aai_lab\n",
    "conda install tensorflow notebook pandas matplotlib numpy\n",
    "conda install scikit-learn\n",
    "conda install -c conda-forge nb_conda_kernels\n",
    "```\n",
    "\n",
    "**System information**: 2018 Intel Core i7 13-inch MacBookPro15,2, 16GB RAM, 512GB SSD, macOS Ventura 13.0 (22A380), kernel 22.1.0\n",
    "\n",
    "## Exercise 1 - A quick overview of machine learning project.\n",
    "\n",
    "The end goal of this lab is to train a linear regression model to make an insurance cost prediction. Write the necessary code and answer the questions below.\n",
    "\n",
    "### 1\n",
    "\n",
    "Use the CSV file from Blackboard Med_insurance.csv [2] from last week. It contains data of medical information and insurance cost. It contains 1338 rows of data with columns: age, gender, BMI, children, smoker, region, insurance charges. Read this csv file using pandas library into a variable called insurance_data\n"
   ]
  },
  {
   "cell_type": "code",
   "execution_count": null,
   "metadata": {},
   "outputs": [],
   "source": [
    "import pandas as pd\n",
    "\n",
    "insurance_data = pd.read_csv('../Med_insurance.csv')"
   ]
  },
  {
   "cell_type": "markdown",
   "metadata": {},
   "source": [
    "### 2\n",
    "\n",
    "Convert a categorical variable of your choice into dummy/indicator variables using the\n",
    "pandas function pandas.get_dummies() and combine the result with the numerical columns\n",
    "of the insurance_data\n"
   ]
  },
  {
   "cell_type": "code",
   "execution_count": null,
   "metadata": {},
   "outputs": [],
   "source": [
    "insurance = pd.get_dummies(insurance_data, columns=['smoker'], drop_first=True)\n",
    "\n",
    "# now only keep the numeric columns\n",
    "insurance = insurance.select_dtypes(include=['number'])\n",
    "\n",
    "# print the first 5 rows of the data\n",
    "insurance.head()"
   ]
  },
  {
   "cell_type": "markdown",
   "metadata": {},
   "source": [
    "### 3\n",
    "\n",
    "Create a test set which is 20 % of the whole data set using a pure random sampling approach.\n",
    "\n",
    "**Question**: Why do you need a test set when training a model?\n",
    "\n",
    "**Answer**: To test the model on data it has not seen before.\n"
   ]
  },
  {
   "cell_type": "code",
   "execution_count": null,
   "metadata": {},
   "outputs": [],
   "source": [
    "from sklearn.model_selection import train_test_split\n",
    "import random as rnd\n",
    "\n",
    "train_set, test_set = train_test_split(insurance, test_size=0.2, random_state=rnd.seed(42))\n",
    "\n",
    "# Print the number of rows in the train and test set\n",
    "print(\"Number of rows in the train set: \", len(train_set))\n",
    "print(\"Number of rows in the test set: \", len(test_set))"
   ]
  },
  {
   "cell_type": "markdown",
   "metadata": {},
   "source": [
    "## Exercise 2 - Preparing the data for Machine Learning algorithms\n",
    "\n",
    "In the upcoming steps you will prepare the data that will be used to train a machine learning model\n",
    "\n",
    "### 1\n",
    "\n",
    "If you found missing values in the data add the missing entries for the respective column(s)\n",
    "using the imputer transform (including only numerical\n",
    "attributes) in Scikit SimpleImputer class. Use “median” as strategy. Make sure to train the imputer only on the training set.\n"
   ]
  },
  {
   "cell_type": "code",
   "execution_count": null,
   "metadata": {},
   "outputs": [],
   "source": [
    "# find the rows for missing data in the train set and print them and save the index\n",
    "indexes = train_set[train_set.isnull().any(axis=1)].index\n",
    "print(train_set.loc[indexes])\n",
    "\n",
    "from sklearn.impute import SimpleImputer\n",
    "\n",
    "imputer = SimpleImputer(strategy=\"median\")\n",
    "\n",
    "# fit the imputer to the train set\n",
    "imputer.fit(train_set)\n",
    "\n",
    "# transform the train set\n",
    "X = imputer.transform(train_set)\n",
    "\n",
    "# apply the imputer to the train set\n",
    "train_set_fixed = pd.DataFrame(X, columns=train_set.columns, index=train_set.index)\n",
    "\n",
    "print(train_set_fixed.loc[indexes])\n",
    "\n",
    "# print the first 5 rows of the data\n",
    "train_set_fixed.head()"
   ]
  },
  {
   "cell_type": "markdown",
   "metadata": {},
   "source": [
    "### 2\n",
    "\n",
    "Perform feature scaling on all numerical attributes\n",
    "using Scikit transform StandardScaler. Again, fit the scaler on the training data only.\n",
    "\n",
    "***Question***: Explain what problem or problems the feature scaling resolves.\n",
    "\n",
    "**Answer**: ...\n"
   ]
  },
  {
   "cell_type": "code",
   "execution_count": null,
   "metadata": {},
   "outputs": [],
   "source": [
    "# Perform feature scaling on all numerical attributes\n",
    "# using Scikit transform StandardScaler. Again, fit the scaler on the training data only.\n",
    "\n",
    "from sklearn.preprocessing import StandardScaler\n",
    "\n",
    "scaler = StandardScaler()\n",
    "\n",
    "# fit the scaler to the train set\n",
    "scaler.fit(train_set_fixed)\n",
    "\n",
    "# transform the train set\n",
    "X = scaler.transform(train_set_fixed)\n",
    "\n",
    "# apply the scaler to the train set\n",
    "train_set_scaled = pd.DataFrame(X, columns=train_set_fixed.columns, index=train_set_fixed.index)\n",
    "\n",
    "# print the first 5 rows of the data\n",
    "train_set_scaled.head()"
   ]
  },
  {
   "cell_type": "markdown",
   "metadata": {},
   "source": [
    "Save the prepocessed data into a variable `insurance_data_prepared`.\n"
   ]
  },
  {
   "cell_type": "code",
   "execution_count": null,
   "metadata": {},
   "outputs": [],
   "source": [
    "insurance_data_prepared = train_set_scaled"
   ]
  },
  {
   "cell_type": "markdown",
   "metadata": {},
   "source": [
    "# Exercise 3 - Training a model\n",
    "\n",
    "In the following steps you will select and train a machine learning model.\n",
    "\n",
    "### 4\n",
    "\n",
    "Now your data is ready to be used in training a machine learning model. Use it to train a Linear Regression model that can predict insurance charges. See the Training and Evaluation on the Training Set section at page 72 in the book [1].\n",
    "\n",
    "**Question**: What is the difference between supervised and unsupervised learning? Is a Linear Regression supervised or unsupervised?\n",
    "\n",
    "**Answer**: ...\n",
    "\n",
    "**Question**: What is the difference between regression and classification?\n",
    "\n",
    "**Answer**: ...\n"
   ]
  },
  {
   "cell_type": "code",
   "execution_count": null,
   "metadata": {},
   "outputs": [],
   "source": [
    "# python code to create a model and train it"
   ]
  },
  {
   "cell_type": "markdown",
   "metadata": {},
   "source": [
    "### 5\n",
    "\n",
    "Test your trained model with the test data and find out the root mean squared error and\n",
    "mean absolute error.\n"
   ]
  },
  {
   "cell_type": "code",
   "execution_count": null,
   "metadata": {},
   "outputs": [],
   "source": [
    "# python code to test the model"
   ]
  }
 ],
 "metadata": {
  "kernelspec": {
   "display_name": "Python 3.10.8 ('aai_lab')",
   "language": "python",
   "name": "python3"
  },
  "language_info": {
   "codemirror_mode": {
    "name": "ipython",
    "version": 3
   },
   "file_extension": ".py",
   "mimetype": "text/x-python",
   "name": "python",
   "nbconvert_exporter": "python",
   "pygments_lexer": "ipython3",
   "version": "3.10.8"
  },
  "orig_nbformat": 4,
  "vscode": {
   "interpreter": {
    "hash": "c148a4cd26e4f153191910e509663017fc090c88cc297ba3ef5842cf5140e93a"
   }
  }
 },
 "nbformat": 4,
 "nbformat_minor": 2
}
