{
 "cells": [
  {
   "cell_type": "markdown",
   "metadata": {},
   "source": [
    "# Applied Artificial Intelligence - Lab 1\n",
    "\n",
    "Luca van Straaten - 18073611\n",
    "\n",
    "## Preparation\n",
    "\n",
    "On my Mac I installed anaconda with my package manager brew:\n",
    "\n",
    "```bash\n",
    "brew install anaconda\n",
    "```\n",
    "\n",
    "I had to add it to my path (I use fish shell)\n",
    "so I could have conda available in my shell.\n",
    "then conda could put the right configurations in my fish.config file.\n",
    "\n",
    "```bash\n",
    "fish_add_path /usr/local/anaconda3/bin # not nessary afterall ??\n",
    "conda init fish\n",
    "conda config --set auto_activate_base false\n",
    "```\n",
    "\n",
    "And I created a new environment with python 3.10:\n",
    "\n",
    "```bash\n",
    "conda create -n aai_lab python=3.10\n",
    "conda activate aai_lab1\n",
    "conda install tensorflow notebook pandas matplotlib numpy\n",
    "conda install scikit-learn\n",
    "conda install -c conda-forge nb_conda_kernels\n",
    "```\n",
    "\n",
    "**System information**: 2018 Intel Core i7 13-inch MacBookPro15,2, 16GB RAM, 512GB SSD, macOS Ventura 13.0 (22A380), kernel 22.1.0\n",
    "\n",
    "**note**: I might remove Anaconda and install Miniconda. If i do that for the next lab, I will add the instructions there.\n",
    "\n",
    "The `Med_insurance.csv` file is one directory down\n",
    "\n",
    "This file, along with the rest of the labs, are tracked in a git repository on github. [lab 1](https://github.com/lucanatorvs/Applied_Artificial_Intelligence_Lab/blob/main/1/lab1.ipynb)\n",
    "\n",
    "## Exercise 1 - Python basics\n",
    "\n",
    "### 1\n",
    "\n",
    "Use a for loop to print the following output to the screen:\n",
    "```\n",
    "The number is 0\n",
    "The number is 1\n",
    "The number is 2\n",
    "The number is 3\n",
    "```\n"
   ]
  },
  {
   "cell_type": "code",
   "execution_count": null,
   "metadata": {},
   "outputs": [],
   "source": [
    "for i in range(4):\n",
    "    print(\"the number is\", i)"
   ]
  },
  {
   "cell_type": "markdown",
   "metadata": {},
   "source": [
    "### 2\n",
    "\n",
    "Write a function called `one_plus_sqrt` that takes a number 𝑥 as input and returns\n",
    "1+√𝑥\n",
    "using the sqrt function of the math module. Then print the result of the function rounded to\n",
    "3 decimal places, when it is called with an input value of x=2.\n"
   ]
  },
  {
   "cell_type": "code",
   "execution_count": null,
   "metadata": {},
   "outputs": [],
   "source": [
    "from math import sqrt\n",
    "\n",
    "\n",
    "def one_plus_sqrt(x):\n",
    "    return 1 + sqrt(x)  # math.sqrt is the square root function\n",
    "\n",
    "\n",
    "print(round(one_plus_sqrt(2), 3))"
   ]
  },
  {
   "cell_type": "markdown",
   "metadata": {},
   "source": [
    "### 3\n",
    "\n",
    "Redefine your function `one_plus_sqrt` to test for negative inputs and return None if this is\n",
    "the case. Save the result of the function for the input value of -1 to a variable called result,\n",
    "and then print the datatype of the variable result.\n"
   ]
  },
  {
   "cell_type": "code",
   "execution_count": null,
   "metadata": {},
   "outputs": [],
   "source": [
    "def one_plus_sqrt(x):\n",
    "    if x < 0:\n",
    "        return None  # return None if x is negative\n",
    "    return 1 + sqrt(x)\n",
    "\n",
    "\n",
    "result = one_plus_sqrt(-1)  # result is None\n",
    "print(type(result))"
   ]
  },
  {
   "cell_type": "markdown",
   "metadata": {},
   "source": [
    "### 4\n",
    "\n",
    "Use list comprehension to generate a list type variable that contains the values of $x^2$ for $x$\n",
    "from $0$ to $100$. Save the result to a variable called result and then print the $10^{th}$ to $14^{th}$\n",
    "elements of the list.\n"
   ]
  },
  {
   "cell_type": "code",
   "execution_count": null,
   "metadata": {},
   "outputs": [],
   "source": [
    "result = [i * i for i in range(101)]  # does 0 to 100 include 100? I say yes.\n",
    "print(\n",
    "    result[9:14]\n",
    ")  # the 10th result is index 9 in the list and then the next 4 to the 14th"
   ]
  },
  {
   "cell_type": "markdown",
   "metadata": {},
   "source": [
    "## Exercise 2 - Numpy basics\n",
    "\n",
    "Just as you did in the previous section, for each of the following tasks, create a new cell in your\n",
    "notebook and write python code to generate the desired result:\n",
    "\n",
    "### 1\n",
    "\n",
    "Use the command “import numpy as np” to import the numpy package, and then print the\n",
    "version of numpy you have installed.\n"
   ]
  },
  {
   "cell_type": "code",
   "execution_count": null,
   "metadata": {},
   "outputs": [],
   "source": [
    "import numpy as np\n",
    "\n",
    "# print version of numpy\n",
    "print(np.__version__)"
   ]
  },
  {
   "cell_type": "markdown",
   "metadata": {},
   "source": [
    "### 2\n",
    "\n",
    "Use numpy to create a variable that contains a one dimensional array with the numbers 1\n",
    "through 4 and then print both the value of the array and the shape of the array.\n"
   ]
  },
  {
   "cell_type": "code",
   "execution_count": null,
   "metadata": {},
   "outputs": [],
   "source": [
    "a = np.array([1, 2, 3, 4])\n",
    "# print the array\n",
    "print(a)\n",
    "# print the shape of the array\n",
    "print(a.shape)"
   ]
  },
  {
   "cell_type": "markdown",
   "metadata": {},
   "source": [
    "### 3\n",
    "\n",
    "Create two 2-D arrays, the first with 1 row and 3 columns and the second with 3 rows and 1\n",
    "column. Then print for each array both the value of the array and the shape of the array.\n"
   ]
  },
  {
   "cell_type": "code",
   "execution_count": null,
   "metadata": {},
   "outputs": [],
   "source": [
    "# 1x3 2-D array\n",
    "a = np.array([[1, 2, 3]])\n",
    "# 3x1 2-D array\n",
    "b = np.array([[1], [2], [3]])\n",
    "# or on of these other ways to transform a to b\n",
    "# b = a.reshape(3, 1)\n",
    "# b = a.T\n",
    "\n",
    "# print the arrays\n",
    "print(a)\n",
    "print(b)\n",
    "# print the shapes of the arrays\n",
    "print(a.shape)\n",
    "print(b.shape)"
   ]
  },
  {
   "cell_type": "markdown",
   "metadata": {},
   "source": [
    "### 4\n",
    "\n",
    "Create a 2D array variable called big_array that has 6 rows and 6 columns containing all\n",
    "zeros. Print the value of the array.\n"
   ]
  },
  {
   "cell_type": "code",
   "execution_count": null,
   "metadata": {},
   "outputs": [],
   "source": [
    "# 6x6 array of zeros\n",
    "big_array = np.zeros((6, 6))\n",
    "# print the array\n",
    "print(big_array)"
   ]
  },
  {
   "cell_type": "markdown",
   "metadata": {},
   "source": [
    "### 5\n",
    "\n",
    "Modify the value of big_array such that all of the elements in the middle two rows are set to\n",
    "1, and then print the value of the enitre array.\n"
   ]
  },
  {
   "cell_type": "code",
   "execution_count": null,
   "metadata": {},
   "outputs": [],
   "source": [
    "big_array[2:4, :] = 1  # set the 3rd and 4th rows (the real middle row) to 1\n",
    "# big_array[1:5, :] = 1 # set the 2nd, 3rd, 4th, and 5th rows (all the middle rows) to 1\n",
    "print(big_array)"
   ]
  },
  {
   "cell_type": "markdown",
   "metadata": {},
   "source": [
    "## Exercise 3 - Matplotlib basics\n",
    "\n",
    "Create a new cell for each of the following tasks and write python code to generate the desired result.\n",
    "\n",
    "### 1\n",
    "\n",
    "First import matplotlib using the command `import matplotlib.pyplot as plt`, then use the `fig,ax = plt.subplots()` command to instantiate a Figure with one Axes and get handles to the figure and axes objects. Next, create a variable called `x` which is a one dimensional numpy array of length $100$ containing uniformly spaced numbers between $-10$ and $10$, and then plot the function $y = \\sin(x)$. Add the title ‘y=sin(x)’ to your plot and label the horizontal axis ‘x’ and the vertical axis ‘y’.\n"
   ]
  },
  {
   "cell_type": "code",
   "execution_count": null,
   "metadata": {},
   "outputs": [],
   "source": [
    "import matplotlib.pyplot as plt\n",
    "\n",
    "fig, ax = plt.subplots()\n",
    "\n",
    "# add the title\n",
    "ax.set_title(\"y=sin(x)\")\n",
    "# add x and y labels\n",
    "ax.set_xlabel(\"x\")\n",
    "ax.set_ylabel(\"y\")\n",
    "\n",
    "# create the x values\n",
    "x = np.linspace(-10, 10, 100)\n",
    "# plot the function y = sin(x)\n",
    "ax.plot(x, np.sin(x));"
   ]
  },
  {
   "cell_type": "markdown",
   "metadata": {},
   "source": [
    "## Exercise 4 - Pandas Basics\n",
    "\n",
    "Once again, create a new cell for each of the following tasks and write python code to generate the desired result.\n",
    "\n",
    "### 1\n",
    "\n",
    "Create three the numpy arrays, the first called `x` is the same as the x from the previous question (i.e. a one dimensional numpy array of length $100$ containing uniformly spaced numbers between $-10$ and $10$), the second is an array that contains $\\sin(𝑥)$ and the third is $\\sin^2(𝑥)$. Make a dictionary object called data where the keys are the strings ‘x’, ‘sin_x’ and ‘sin_squared_x’, and the values are the associated numpy arrays.\n"
   ]
  },
  {
   "cell_type": "code",
   "execution_count": null,
   "metadata": {},
   "outputs": [],
   "source": [
    "# create the x values\n",
    "x = np.linspace(-10, 10, 100)\n",
    "# second array with sine of x\n",
    "y = np.sin(x)\n",
    "# third array with sine^2 of x\n",
    "z = np.sin(x) ** 2\n",
    "\n",
    "data = {\"x\": x, \"sin_x\": y, \"sin_squared_x\": z}"
   ]
  },
  {
   "cell_type": "markdown",
   "metadata": {},
   "source": [
    "### 2\n",
    "\n",
    "Import pandas using the command “import pandas as pd”, and then create a pandas dataframe called df using the data dictionary you created in the previous step. Then use the dataframe head() method to print the first few rows of your dataframe.\n"
   ]
  },
  {
   "cell_type": "code",
   "execution_count": null,
   "metadata": {},
   "outputs": [],
   "source": [
    "import pandas as pd\n",
    "\n",
    "df = pd.DataFrame(data)\n",
    "df.head()"
   ]
  },
  {
   "cell_type": "markdown",
   "metadata": {},
   "source": [
    "### 3\n",
    "\n",
    "Print the mean of the ‘sin_squared_x’ column of the dataframe.\n"
   ]
  },
  {
   "cell_type": "code",
   "execution_count": null,
   "metadata": {},
   "outputs": [],
   "source": [
    "print(df[\"sin_squared_x\"].mean())"
   ]
  },
  {
   "cell_type": "markdown",
   "metadata": {},
   "source": [
    "## Exercise 5 - Data Investigation\n",
    "\n",
    "Before the next exercise read chapter 2 End-to-End Machine Learning Project, section 1-4 of the textbook [1]\n",
    "\n",
    "Download from Brightspace the csv file called Med_insurance.csv [2]. This csv file contains data of medical information and insurance costs (‘charges’). Read this csv file using pandas and create a dataframe called insurance_data_raw\n",
    "\n",
    "Perform the following steps and provide answers to all of the questions (use a mix of Markdown and Code cells in your notebook):\n",
    "\n",
    "### 1\n",
    "\n",
    "Investigate the data, what attributes do you see? How many rows do you have? Does the data contain missing values?\n"
   ]
  },
  {
   "cell_type": "code",
   "execution_count": null,
   "metadata": {},
   "outputs": [],
   "source": [
    "from IPython.display import Markdown, display\n",
    "\n",
    "\n",
    "def printmd(string):\n",
    "    display(Markdown(string))\n",
    "\n",
    "\n",
    "# read in a csv file using pandas\n",
    "\n",
    "df = pd.read_csv(\"../Med_insurance.csv\")\n",
    "# prinnt the names of the columns\n",
    "printmd(\"**Print the names of the columns**\")\n",
    "print(df.columns)\n",
    "# Does the data contain missing values?\n",
    "printmd(\"**Does the data contain missing values?**\")\n",
    "print(df.isnull().values.any())\n",
    "# how many missing values are there in each column?\n",
    "printmd(\"**How many missing values are there in each column?**\")\n",
    "print(df.isnull().sum())\n",
    "# what attributes do you see?\n",
    "printmd(\"**What attributes do you see?**\")\n",
    "print(df.dtypes)\n",
    "# how many rows and columns are there?\n",
    "printmd(\"**How many rows and columns are there?**\")\n",
    "print(df.shape)\n",
    "# print the first 5 rows\n",
    "printmd(\"**Print the first 5 rows**\")\n",
    "df.head()"
   ]
  },
  {
   "cell_type": "markdown",
   "metadata": {},
   "source": [
    "### 2\n",
    "\n",
    "Compute the correlation between the “charges” and the rest of the attributes. Create a plot using the package matplotlib showing these correlations. Use an appropriate title for the plot and label the x and y axis.\n",
    "\n",
    "**Question**: What do you observe?\n",
    "\n",
    "**awswer**: I observe that the charges ar correlated with the age and the bmi. for age and bmi the corilation seems to be that the higher the value the higher the charges. For the other attributes the corilation is very low, so it is not plotted to make the plot more readable. apart from smoker for wich the corilation is that if you are a smoker the charges are above a specific value, but this is also not plotted.\n",
    "\n",
    "**Question**: How is the insurance cost correlated with the age?\n",
    "\n",
    "**answer**: see the plot `insurance vs age`, if you ignore the outliers the corilation is that the higher the age the higher the insurance cost.\n"
   ]
  },
  {
   "cell_type": "code",
   "execution_count": null,
   "metadata": {},
   "outputs": [],
   "source": [
    "# correlation matrix\n",
    "correlation_matrix = df.corr()\n",
    "print(correlation_matrix)\n",
    "\n",
    "# plot the correlation matrix\n",
    "fig, ax = plt.subplots()\n",
    "im = ax.imshow(correlation_matrix)\n",
    "\n",
    "# We want to show all ticks...\n",
    "ax.set_xticks(np.arange(len(correlation_matrix.columns)))\n",
    "ax.set_yticks(np.arange(len(correlation_matrix.columns)))\n",
    "# ... and label them with the respective list entries\n",
    "ax.set_xticklabels(correlation_matrix.columns)\n",
    "ax.set_yticklabels(correlation_matrix.columns);"
   ]
  },
  {
   "cell_type": "code",
   "execution_count": null,
   "metadata": {},
   "outputs": [],
   "source": [
    "# plot the correlation matrix as plots in a grid age, bmi, children, charges\n",
    "fig, ax = plt.subplots(4, 4, figsize=(10, 10))\n",
    "# print hystogram for the diagonal and scatter plots for the off diagonal and label the plots on the edges\n",
    "for i in range(4):\n",
    "    for j in range(4):\n",
    "        if i == j:\n",
    "            ax[i, j].hist(df[correlation_matrix.columns[i]])\n",
    "        else:\n",
    "            ax[i, j].scatter(\n",
    "                df[correlation_matrix.columns[j]], df[correlation_matrix.columns[i]]\n",
    "            )\n",
    "        if i == 0:\n",
    "            ax[i, j].set_title(correlation_matrix.columns[j])\n",
    "        if j == 0:\n",
    "            ax[i, j].set_ylabel(correlation_matrix.columns[i])"
   ]
  },
  {
   "cell_type": "code",
   "execution_count": null,
   "metadata": {},
   "outputs": [],
   "source": [
    "# or do this\n",
    "from pandas.plotting import scatter_matrix\n",
    "\n",
    "# create a scatter matrix\n",
    "attributes = [\"age\", \"bmi\", \"children\", \"charges\"]\n",
    "scatter_matrix(df[attributes], figsize=(12, 8))\n",
    "plt.show()"
   ]
  },
  {
   "cell_type": "markdown",
   "metadata": {},
   "source": [
    "### 3\n",
    "\n",
    "Separate the labels from the data. Make two variables `insurance_data_label` and `insurance_data` The first variable contains the labels of the data i.e, the expected output for which you want to train a machine learning model and the second variable will contain the rest of the data.\n"
   ]
  },
  {
   "cell_type": "code",
   "execution_count": null,
   "metadata": {},
   "outputs": [],
   "source": [
    "# the labels for the data\n",
    "insurance_data_label = df[\"charges\"]\n",
    "\n",
    "# the rest of the data\n",
    "insurance_data = df.drop(\"charges\", axis=1)\n",
    "\n",
    "# print the data\n",
    "printmd(\"**Print the data labels**\")\n",
    "print(insurance_data_label)\n",
    "printmd(\"**Print the data**\")\n",
    "print(insurance_data)"
   ]
  }
 ],
 "metadata": {
  "kernelspec": {
   "display_name": "Python 3.10.8 ('aai_lab')",
   "language": "python",
   "name": "python3"
  },
  "language_info": {
   "codemirror_mode": {
    "name": "ipython",
    "version": 3
   },
   "file_extension": ".py",
   "mimetype": "text/x-python",
   "name": "python",
   "nbconvert_exporter": "python",
   "pygments_lexer": "ipython3",
   "version": "3.10.8"
  },
  "vscode": {
   "interpreter": {
    "hash": "c148a4cd26e4f153191910e509663017fc090c88cc297ba3ef5842cf5140e93a"
   }
  }
 },
 "nbformat": 4,
 "nbformat_minor": 2
}
