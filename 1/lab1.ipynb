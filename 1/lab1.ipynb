{
 "cells": [
  {
   "cell_type": "markdown",
   "metadata": {},
   "source": [
    "# Applied Artificial Intelligence - Lab 1\n",
    "\n",
    "Luca van Straaten - 18073611\n",
    "\n",
    "## Preparation\n",
    "\n",
    "On my Mac I installed anaconda with my package manager brew:\n",
    "\n",
    "```bash\n",
    "brew install anaconda\n",
    "```\n",
    "\n",
    "I had to add it to my path (I use fish shell)\n",
    "so I could have conda available in my shell.\n",
    "then conda could put the right configurations in my fish.config file.\n",
    "\n",
    "```bash\n",
    "fish_add_path /usr/local/anaconda3/bin # not nessary afterall ??\n",
    "conda init fish\n",
    "conda config --set auto_activate_base false\n",
    "```\n",
    "\n",
    "And I created a new environment with python 3.10:\n",
    "\n",
    "```bash\n",
    "conda create -n aai_lab python=3.10\n",
    "conda activate aai_lab1\n",
    "conda install tensorflow notebook pandas matplotlib numpy\n",
    "conda install scikit-learn\n",
    "conda install -c conda-forge nb_conda_kernels\n",
    "```\n",
    "\n",
    "**System information**: 2018 Intel Core i7 13-inch MacBookPro15,2, 16GB RAM, 512GB SSD, macOS Ventura 13.0 (22A380), kernel 22.1.0\n",
    "\n",
    "**note**: I might remove Anaconda and install Miniconda. If i do that for the next lab, I will add the instructions there.\n",
    "\n",
    "The `Med_insurance.csv` file is one directory down\n",
    "\n",
    "## Exercise 1 - Python basics\n",
    "\n",
    "### 1\n",
    "\n",
    "Use a for loop to print the following output to the screen:\n",
    "```\n",
    "The number is 0\n",
    "The number is 1\n",
    "The number is 2\n",
    "The number is 3\n",
    "```\n"
   ]
  },
  {
   "cell_type": "code",
   "execution_count": null,
   "metadata": {},
   "outputs": [],
   "source": [
    "for i in range(4):\n",
    "    print(\"the number is\", i)"
   ]
  },
  {
   "cell_type": "markdown",
   "metadata": {},
   "source": [
    "### 2\n",
    "\n",
    "Write a function called `one_plus_sqrt` that takes a number 𝑥 as input and returns\n",
    "1+√𝑥\n",
    "using the sqrt function of the math module. Then print the result of the function rounded to\n",
    "3 decimal places, when it is called with an input value of x=2.\n"
   ]
  },
  {
   "cell_type": "code",
   "execution_count": null,
   "metadata": {},
   "outputs": [],
   "source": [
    "import math\n",
    "\n",
    "def one_plus_sqrt (x):\n",
    "    return 1 + math.sqrt(x) # math.sqrt is the square root function\n",
    "print(round(one_plus_sqrt(2), 3))"
   ]
  },
  {
   "cell_type": "markdown",
   "metadata": {},
   "source": [
    "### 3\n",
    "\n",
    "Redefine your function `one_plus_sqrt` to test for negative inputs and return None if this is\n",
    "the case. Save the result of the function for the input value of -1 to a variable called result,\n",
    "and then print the datatype of the variable result.\n"
   ]
  },
  {
   "cell_type": "code",
   "execution_count": null,
   "metadata": {},
   "outputs": [],
   "source": [
    "def one_plus_sqrt (x):\n",
    "    if x < 0:\n",
    "        return None # return None if x is negative\n",
    "    return 1 + math.sqrt(x)\n",
    "result = one_plus_sqrt(-1) # result is None\n",
    "print(type(result))"
   ]
  },
  {
   "cell_type": "markdown",
   "metadata": {},
   "source": [
    "### 4\n",
    "\n",
    "Use list comprehension to generate a list type variable that contains the values of $x^2$ for $x$\n",
    "from $0$ to $100$. Save the result to a variable called result and then print the $10^{th}$ to $14^{th}$\n",
    "elements of the list.\n"
   ]
  },
  {
   "cell_type": "code",
   "execution_count": null,
   "metadata": {},
   "outputs": [],
   "source": [
    "result = [i*i for i in range(101)]\n",
    "print(result[9:14]) # the 10th result is index 9 in the list and then the next 5 to the 14th"
   ]
  },
  {
   "cell_type": "markdown",
   "metadata": {},
   "source": [
    "## Exercise 2 - Numpy basics\n",
    "\n",
    "Just as you did in the previous section, for each of the following tasks, create a new cell in your\n",
    "notebook and write python code to generate the desired result:\n",
    "\n",
    "### 1\n",
    "\n",
    "Use the command “import numpy as np” to import the numpy package, and then print the\n",
    "version of numpy you have installed.\n"
   ]
  },
  {
   "cell_type": "code",
   "execution_count": null,
   "metadata": {},
   "outputs": [],
   "source": [
    "import numpy as np\n",
    "\n",
    "# print version of numpy\n",
    "print(np.__version__)"
   ]
  },
  {
   "cell_type": "markdown",
   "metadata": {},
   "source": [
    "### 2\n",
    "\n",
    "Use numpy to create a variable that contains a one dimensional array with the numbers 1\n",
    "through 4 and then print both the value of the array and the shape of the array.\n"
   ]
  },
  {
   "cell_type": "code",
   "execution_count": null,
   "metadata": {},
   "outputs": [],
   "source": [
    "# 2-D array\n",
    "a = np.array([[1, 2], [3, 4]])\n",
    "# print the array\n",
    "print(a)"
   ]
  },
  {
   "cell_type": "markdown",
   "metadata": {},
   "source": [
    "### 3\n",
    "\n",
    "Create two 2-D arrays, the first with 1 row and 3 columns and the second with 3 rows and 1\n",
    "column. Then print for each array both the value of the array and the shape of the array.\n"
   ]
  },
  {
   "cell_type": "code",
   "execution_count": null,
   "metadata": {},
   "outputs": [],
   "source": [
    "# 1x3 2-D array\n",
    "a = np.array([1, 2, 3])\n",
    "# 3x1 2-D array\n",
    "b = np.array([[1], [2], [3]])\n",
    "# print the arrays\n",
    "print(a)\n",
    "print(b)"
   ]
  },
  {
   "cell_type": "markdown",
   "metadata": {},
   "source": [
    "### 4\n",
    "\n",
    "Create a 2D array variable called big_array that has 6 rows and 6 columns containing all\n",
    "zeros. Print the value of the array.\n"
   ]
  },
  {
   "cell_type": "code",
   "execution_count": null,
   "metadata": {},
   "outputs": [],
   "source": [
    "# 6x6 array of zeros\n",
    "big_array = np.zeros((6, 6))\n",
    "# print the array\n",
    "print(big_array)"
   ]
  },
  {
   "cell_type": "markdown",
   "metadata": {},
   "source": [
    "### 5\n",
    "\n",
    "Modify the value of big_array such that all of the elements in the middle two rows are set to\n",
    "1, and then print the value of the enitre array.\n"
   ]
  },
  {
   "cell_type": "code",
   "execution_count": null,
   "metadata": {},
   "outputs": [],
   "source": [
    "big_array[2:4, :] = 1\n",
    "print(big_array)"
   ]
  },
  {
   "cell_type": "markdown",
   "metadata": {},
   "source": [
    "## Exercise 3 - Matplotlib basics\n",
    "\n",
    "Create a new cell for each of the following tasks and write python code to generate the desired result.\n",
    "\n",
    "### 1\n",
    "\n",
    "First import matplotlib using the command `import matplotlib.pyplot as plt`, then use the `fig,ax = plt.subplots()` command to instantiate a Figure with one Axes and get handles to the figure and axes objects. Next, create a variable called `x` which is a one dimensional numpy array of length $100$ containing uniformly spaced numbers between $-10$ and $10$, and then plot the function $y = \\sin(x)$. Add the title ‘y=sin(x)’ to your plot and label the horizontal axis ‘x’ and the vertical axis ‘y’.\n"
   ]
  },
  {
   "cell_type": "code",
   "execution_count": null,
   "metadata": {},
   "outputs": [],
   "source": [
    "import matplotlib.pyplot as plt\n",
    "\n",
    "fig,ax = plt.subplots()\n",
    "\n",
    "# add the title\n",
    "ax.set_title(\"y=sin(x)\")\n",
    "# add x and y labels\n",
    "ax.set_xlabel(\"x\")\n",
    "ax.set_ylabel(\"y\")\n",
    "\n",
    "# create the x values\n",
    "x = np.linspace(-10, 10, 100)\n",
    "# plot the function y = sin(x)\n",
    "ax.plot(x, np.sin(x));"
   ]
  },
  {
   "cell_type": "markdown",
   "metadata": {},
   "source": [
    "## Exercise 4 - Pandas Basics\n",
    "\n",
    "Once again, create a new cell for each of the following tasks and write python code to generate the desired result.\n",
    "\n",
    "### 1\n",
    "\n",
    "Create three the numpy arrays, the first called `x` is the same as the x from the previous question (i.e. a one dimensional numpy array of length $100$ containing uniformly spaced numbers between $-10$ and $10$), the second is an array that contains $\\sin(𝑥)$ and the third is $\\sin^2(𝑥)$. Make a dictionary object called data where the keys are the strings ‘x’, ‘sin_x’ and ‘sin_squared_x’, and the values are the associated numpy arrays.\n"
   ]
  },
  {
   "cell_type": "code",
   "execution_count": null,
   "metadata": {},
   "outputs": [],
   "source": [
    "# second array with sine of x\n",
    "y = np.sin(x)\n",
    "# third array with sine^2 of x\n",
    "z = np.sin(x)**2\n",
    "\n",
    "data = {\"x\": x, \"sin_x\": y, \"sin_squared_x\": z}\n",
    "\n",
    "# plot the data\n",
    "fig, ax = plt.subplots()\n",
    "# add the title\n",
    "ax.set_title(\"y=sin(x)\")\n",
    "# add x and y labels\n",
    "ax.set_xlabel(\"x\")\n",
    "ax.set_ylabel(\"y\")\n",
    "ax.plot(\"x\", \"sin_x\", data=data)\n",
    "ax.plot(\"x\", \"sin_squared_x\", data=data);\n"
   ]
  },
  {
   "cell_type": "markdown",
   "metadata": {},
   "source": [
    "### 2\n",
    "\n",
    "Import pandas using the command “import pandas as pd”, and then create a pandas dataframe called df using the data dictionary you created in the previous step. Then use the dataframe head() method to print the first few rows of your dataframe.\n"
   ]
  },
  {
   "cell_type": "code",
   "execution_count": null,
   "metadata": {},
   "outputs": [],
   "source": [
    "import pandas as pd\n",
    "\n",
    "df = pd.DataFrame(data)\n",
    "df.head()"
   ]
  },
  {
   "cell_type": "markdown",
   "metadata": {},
   "source": [
    "### 3\n",
    "\n",
    "Print the mean of the ‘sin_squared_x’ column of the dataframe.\n"
   ]
  },
  {
   "cell_type": "code",
   "execution_count": null,
   "metadata": {},
   "outputs": [],
   "source": [
    "print(df[\"sin_squared_x\"].mean())"
   ]
  },
  {
   "cell_type": "markdown",
   "metadata": {},
   "source": [
    "## Exercise 5 - Data Investigation\n",
    "\n",
    "Before the next exercise read chapter 2 End-to-End Machine Learning Project, section 1-4 of the textbook [1]\n",
    "\n",
    "Download from Brightspace the csv file called Med_insurance.csv [2]. This csv file contains data of medical information and insurance costs (‘charges’). Read this csv file using pandas and create a dataframe called insurance_data_raw\n",
    "\n",
    "Perform the following steps and provide answers to all of the questions (use a mix of Markdown and Code cells in your notebook):\n",
    "\n",
    "### 1\n",
    "\n",
    "Investigate the data, what attributes do you see? How many rows do you have? Does the data contain missing values?\n"
   ]
  },
  {
   "cell_type": "code",
   "execution_count": null,
   "metadata": {},
   "outputs": [],
   "source": [
    "# read in a csv file using pandas\n",
    "\n",
    "df = pd.read_csv(\"../Med_insurance.csv\")\n",
    "# prinnt the names of the columns\n",
    "print(df.columns)\n",
    "# Does the data contain missing values?\n",
    "print(df.isnull().values.any())\n",
    "# how many missing values are there in each column?\n",
    "print(df.isnull().sum())\n",
    "# what attributes do you see?\n",
    "print(df.dtypes)\n",
    "# print the first 5 rows\n",
    "df.head()"
   ]
  },
  {
   "cell_type": "markdown",
   "metadata": {},
   "source": [
    "### 2\n",
    "\n",
    "Compute the correlation between the “charges” and the rest of the attributes. Create a plot using the package matplotlib showing these correlations. Use an appropriate title for the plot and label the x and y axis.\n",
    "\n",
    "**Question**: What do you observe?\n",
    "\n",
    "**awswer**: I observe that the charges ar correlated with the age and the bmi. for age and bmi the corilation seems to be that the higher the value the higher the charges. For the other attributes the corilation is very low, so it is not plotted to make the plot more readable. apart from smoker for wich the corilation is that if you are a smoker the charges are above a specific value, but this is also not plotted.\n",
    "\n",
    "**Question**: How is the insurance cost correlated with the age?\n",
    "\n",
    "**answer**: see the plot `insurance vs age`, if you ignore the outliers the corilation is that the higher the age the higher the insurance cost.\n",
    "\n",
    "#### Note\n",
    "\n",
    "For the last plot is was just playing around a bit, i dont really know what i am doing, but i think it is a nice plot.\n"
   ]
  },
  {
   "cell_type": "code",
   "execution_count": null,
   "metadata": {},
   "outputs": [],
   "source": [
    "fig, ax = plt.subplots()\n",
    "\n",
    "# add the title\n",
    "ax.set_title(\"Charges vs bmi, age\")\n",
    "# add x and y labels\n",
    "ax.set_xlabel(\"attributes\")\n",
    "ax.set_ylabel(\"Charges\")\n",
    "\n",
    "# plot the data for charges vs bmi, age\n",
    "ax.scatter(df[\"bmi\"], df[\"charges\"], label=\"bmi\", s=2)\n",
    "ax.scatter(df[\"age\"], df[\"charges\"], label=\"age\", s=4)\n",
    "# plot for charges vs smoker\n",
    "# ax.scatter(df[\"smoker\"], df[\"charges\"], label=\"smoker\", s=4)\n",
    "\n",
    "# add a legend\n",
    "ax.legend();\n",
    "\n",
    "# plot a 3D interactivescatter plot of charges vs bmi vs age\n",
    "\n",
    "fig = plt.figure()\n",
    "ax = fig.add_subplot(111, projection='3d')\n",
    "\n",
    "ax.set_title(\"Charges vs bmi vs age\")\n",
    "ax.set_xlabel(\"bmi\")\n",
    "ax.set_ylabel(\"age\")\n",
    "ax.set_zlabel(\"charges\")\n",
    "\n",
    "# plot the data\n",
    "ax.scatter(df[\"bmi\"], df[\"age\"], df[\"charges\"], s=2);\n"
   ]
  },
  {
   "cell_type": "code",
   "execution_count": null,
   "metadata": {},
   "outputs": [],
   "source": [
    "# for every age, get the lowest charges\n",
    "insurance = df.groupby(\"age\")[\"charges\"].min()\n",
    "\n",
    "# get the best fit line\n",
    "z = np.polyfit(insurance.index, insurance.values, 2)\n",
    "\n",
    "# higlight the points from insurance above the best fit line by splitting the data into two dataframes\n",
    "insurance_above = insurance[insurance > np.polyval(z, insurance.index)]\n",
    "insurance_below = insurance[insurance <= np.polyval(z, insurance.index)]\n",
    "\n",
    "# best fil line onluy for the points below the best fit line\n",
    "z_below = np.polyfit(insurance_below.index, insurance_below.values, 2)\n",
    "\n",
    "# plot the data\n",
    "fig, ax = plt.subplots()\n",
    "ax.set_title(\"insurance vs age\")\n",
    "ax.set_xlabel(\"age\")\n",
    "ax.set_ylabel(\"insurance\")\n",
    "ax.scatter(insurance_below.index, insurance_below.values, label=\"good\", s=4)\n",
    "ax.scatter(insurance_above.index, insurance_above.values, label=\"not good\", s=2)\n",
    "# ax.plot(insurance.index, np.polyval(z, insurance.index), label=\"best fit line\", color=\"red\")\n",
    "ax.plot(insurance_below.index, np.polyval(z_below, insurance_below.index), label=\"best fit line below\", color=\"green\")\n",
    "ax.legend()\n",
    "\n",
    "# calculate the RMSE for both of the best fit lines\n",
    "rmse_red = np.sqrt(np.mean((insurance_above - np.polyval(z, insurance_above.index))**2))\n",
    "rmse_green = np.sqrt(np.mean((insurance_below - np.polyval(z_below, insurance_below.index))**2))\n",
    "\n",
    "# write the rmse in the plot\n",
    "# ax.text(40, 1000, \"RMSE Red: \" + str(round(rmse_red, 2)), fontsize=10)\n",
    "ax.text(35, 1800, \"RMSE (excluding 'not good') Green: \" + str(round(rmse_green, 2)), fontsize=10);\n",
    "# write the formula for the best fit line\n",
    "ax.text(35, 1000, \"y = \" + str(round(z[0], 2)) + \"x^2 + \" + str(round(z[1], 2)) + \"x + \" + str(round(z[2], 2)), fontsize=10)\n"
   ]
  },
  {
   "cell_type": "code",
   "execution_count": null,
   "metadata": {},
   "outputs": [],
   "source": [
    "# for every age, get the lowest charges wich is the insurance\n",
    "insurance = df.groupby(\"age\")[\"charges\"].min()\n",
    "# now only for smokers\n",
    "insurance_smokers = df[df[\"smoker\"] == \"yes\"].groupby(\"age\")[\"charges\"].min()\n",
    "# now only for non-smokers\n",
    "insurance_non_smokers = df[df[\"smoker\"] == \"no\"].groupby(\"age\")[\"charges\"].min()\n",
    "# now pre region\n",
    "insurance_northeast = df[df[\"region\"] == \"northeast\"].groupby(\"age\")[\"charges\"].min()\n",
    "insurance_northwest = df[df[\"region\"] == \"northwest\"].groupby(\"age\")[\"charges\"].min()\n",
    "insurance_southeast = df[df[\"region\"] == \"southeast\"].groupby(\"age\")[\"charges\"].min()\n",
    "insurance_southwest = df[df[\"region\"] == \"southwest\"].groupby(\"age\")[\"charges\"].min()\n",
    "# now for no children\n",
    "insurance_no_children = df[df[\"children\"] == 0].groupby(\"age\")[\"charges\"].min()\n",
    "# now for at least one child\n",
    "insurance_children = df[df[\"children\"] > 0].groupby(\"age\")[\"charges\"].min()\n",
    "# now for sex\n",
    "insurance_sex_f = df[df[\"sex\"] == \"female\"].groupby(\"age\")[\"charges\"].min()\n",
    "insurance_sex_m = df[df[\"sex\"] == \"male\"].groupby(\"age\")[\"charges\"].min()\n",
    "\n",
    "\n",
    "\n",
    "# get the best fit line for the insurance\n",
    "z = np.polyfit(insurance.index, insurance.values, 2)\n",
    "# get the best fit line for smokers\n",
    "z_smokers = np.polyfit(insurance_smokers.index, insurance_smokers.values, 2)\n",
    "# get the best fit line for non-smokers\n",
    "z_non_smokers = np.polyfit(insurance_non_smokers.index, insurance_non_smokers.values, 2)\n",
    "# get the best fit line for each region\n",
    "z_northeast = np.polyfit(insurance_northeast.index, insurance_northeast.values, 2)\n",
    "z_northwest = np.polyfit(insurance_northwest.index, insurance_northwest.values, 2)\n",
    "z_southeast = np.polyfit(insurance_southeast.index, insurance_southeast.values, 2)\n",
    "z_southwest = np.polyfit(insurance_southwest.index, insurance_southwest.values, 2)\n",
    "# get the best fit line for no children\n",
    "z_no_children = np.polyfit(insurance_no_children.index, insurance_no_children.values, 2)\n",
    "# get the best fit line for at least one child\n",
    "z_children = np.polyfit(insurance_children.index, insurance_children.values, 2)\n",
    "# get the best fit line for sex\n",
    "z_sex_f = np.polyfit(insurance_sex_f.index, insurance_sex_f.values, 2)\n",
    "z_sex_m = np.polyfit(insurance_sex_m.index, insurance_sex_m.values, 2)\n",
    "\n",
    "\n",
    "# plot the data\n",
    "fig, ax = plt.subplots()\n",
    "ax.set_title(\"insurance vs age\")\n",
    "ax.set_xlabel(\"age\")\n",
    "ax.set_ylabel(\"insurance\")\n",
    "# plot the best fit line for the insurance\n",
    "ax.plot(insurance.index, np.polyval(z, insurance.index), label=\"insurance\", color=\"red\")\n",
    "# plot the best fit line for smokers\n",
    "ax.plot(insurance_smokers.index, np.polyval(z_smokers, insurance_smokers.index), label=\"smokers\", color=\"green\")\n",
    "# plot the best fit line for non-smokers\n",
    "ax.plot(insurance_non_smokers.index, np.polyval(z_non_smokers, insurance_non_smokers.index), label=\"non-smokers\", color=\"blue\")\n",
    "# plot the best fit line for each region\n",
    "ax.plot(insurance_northeast.index, np.polyval(z_northeast, insurance_northeast.index), label=\"northeast\", color=\"orange\")\n",
    "ax.plot(insurance_northwest.index, np.polyval(z_northwest, insurance_northwest.index), label=\"northwest\", color=\"purple\")\n",
    "ax.plot(insurance_southeast.index, np.polyval(z_southeast, insurance_southeast.index), label=\"southeast\", color=\"pink\")\n",
    "ax.plot(insurance_southwest.index, np.polyval(z_southwest, insurance_southwest.index), label=\"southwest\", color=\"brown\")\n",
    "# plot the best fit line for no children\n",
    "ax.plot(insurance_no_children.index, np.polyval(z_no_children, insurance_no_children.index), label=\"no children\", color=\"black\")\n",
    "# plot the best fit line for at least one child\n",
    "ax.plot(insurance_children.index, np.polyval(z_children, insurance_children.index), label=\"children\", color=\"grey\")\n",
    "# plot the best fit line for sex\n",
    "ax.plot(insurance_sex_f.index, np.polyval(z_sex_f, insurance_sex_f.index), label=\"female\", color=\"yellow\")\n",
    "ax.plot(insurance_sex_m.index, np.polyval(z_sex_m, insurance_sex_m.index), label=\"male\", color=\"cyan\")\n",
    "\n",
    "ax.legend();"
   ]
  },
  {
   "cell_type": "markdown",
   "metadata": {},
   "source": [
    "### 3\n",
    "\n",
    "Separate the labels from the data. Make two variables `insurance_data_label` and `insurance_data` The first variable contains the labels of the data i.e, the expected output for which you want to train a machine learning model and the second variable will contain the rest of the data.\n"
   ]
  },
  {
   "cell_type": "code",
   "execution_count": null,
   "metadata": {},
   "outputs": [],
   "source": [
    "# the labels for the data\n",
    "insurance_data_label = df[\"charges\"]\n",
    "\n",
    "# the rest of the data\n",
    "insurance_data = df.drop(\"charges\", axis=1)\n"
   ]
  }
 ],
 "metadata": {
  "kernelspec": {
   "display_name": "Python 3.10.8 ('aai_lab')",
   "language": "python",
   "name": "python3"
  },
  "language_info": {
   "codemirror_mode": {
    "name": "ipython",
    "version": 3
   },
   "file_extension": ".py",
   "mimetype": "text/x-python",
   "name": "python",
   "nbconvert_exporter": "python",
   "pygments_lexer": "ipython3",
   "version": "3.10.8"
  },
  "vscode": {
   "interpreter": {
    "hash": "c148a4cd26e4f153191910e509663017fc090c88cc297ba3ef5842cf5140e93a"
   }
  }
 },
 "nbformat": 4,
 "nbformat_minor": 2
}
