{
 "cells": [
  {
   "attachments": {},
   "cell_type": "markdown",
   "metadata": {},
   "source": [
    "# controller in python\n",
    "\n",
    "we have a xbox controller connected to bluetooth\n",
    "\n",
    "we want to use it to control a robot\n",
    "\n",
    "we take the inputs on teh laptop and send them to the robot"
   ]
  },
  {
   "cell_type": "code",
   "execution_count": 1,
   "metadata": {},
   "outputs": [
    {
     "name": "stdout",
     "output_type": "stream",
     "text": [
      "pygame 2.1.3.dev8 (SDL 2.0.22, Python 3.10.8)\n",
      "Hello from the pygame community. https://www.pygame.org/contribute.html\n",
      "Buttons: {0: False, 1: False, 2: False, 3: False, 4: False, 5: False, 6: False, 7: False, 8: False, 9: False, 10: False, 11: False, 12: False, 13: False, 14: False, 15: False} Axis: {0: 0, 1: 0, 2: 0, 3: 0, 4: 0, 5: 0}                    \r"
     ]
    }
   ],
   "source": [
    "# connect to the controller\n",
    "\n",
    "import pygame\n",
    "import time\n",
    "\n",
    "# find the controller\n",
    "pygame.init()\n",
    "pygame.joystick.init()\n",
    "joystick = pygame.joystick.Joystick(0)\n",
    "joystick.init()\n",
    "\n",
    "# we put values if all buttens and axis into a dictionary\n",
    "# so we can easily access them\n",
    "buttons = {}\n",
    "axis = {}\n",
    "\n",
    "# wi initialize the dictionary with all buttons and axis\n",
    "for i in range(joystick.get_numbuttons()):\n",
    "    buttons[i] = False\n",
    "\n",
    "for i in range(joystick.get_numaxes()):\n",
    "    axis[i] = 0\n",
    "\n",
    "# # every 100ms we read the controller and update the dictionary\n",
    "# while True:\n",
    "#     pygame.event.pump()\n",
    "#     for i in range(joystick.get_numbuttons()):\n",
    "#         buttons[i] = joystick.get_button(i)\n",
    "#     for i in range(joystick.get_numaxes()):\n",
    "#         axis[i] = joystick.get_axis(i)\n",
    "#     # print the values but rewrite the 2 lines so we don't get a lot of lines and alway keep the same linewidth so print a lot of spaces\n",
    "print(\"Buttons: \" + str(buttons) + \" Axis: \" + str(axis) + \" \" * 20, end=\"\\r\")\n",
    "#     time.sleep(0.1)\n"
   ]
  },
  {
   "cell_type": "code",
   "execution_count": 9,
   "metadata": {},
   "outputs": [
    {
     "name": "stdout",
     "output_type": "stream",
     "text": [
      "0.03,0.0,0                \r"
     ]
    },
    {
     "ename": "OSError",
     "evalue": "[Errno 51] Network is unreachable",
     "output_type": "error",
     "traceback": [
      "\u001b[0;31m---------------------------------------------------------------------------\u001b[0m",
      "\u001b[0;31mOSError\u001b[0m                                   Traceback (most recent call last)",
      "Cell \u001b[0;32mIn [9], line 27\u001b[0m\n\u001b[1;32m     25\u001b[0m axis[\u001b[39m1\u001b[39m] \u001b[39m=\u001b[39m \u001b[39mround\u001b[39m(axis[\u001b[39m1\u001b[39m], \u001b[39m2\u001b[39m)\n\u001b[1;32m     26\u001b[0m string \u001b[39m=\u001b[39m \u001b[39mstr\u001b[39m(axis[\u001b[39m0\u001b[39m]) \u001b[39m+\u001b[39m \u001b[39m\"\u001b[39m\u001b[39m,\u001b[39m\u001b[39m\"\u001b[39m \u001b[39m+\u001b[39m \u001b[39mstr\u001b[39m(axis[\u001b[39m1\u001b[39m]) \u001b[39m+\u001b[39m \u001b[39m\"\u001b[39m\u001b[39m,\u001b[39m\u001b[39m\"\u001b[39m \u001b[39m+\u001b[39m \u001b[39mstr\u001b[39m(buttons[\u001b[39m0\u001b[39m])\n\u001b[0;32m---> 27\u001b[0m sock\u001b[39m.\u001b[39;49msendto(string\u001b[39m.\u001b[39;49mencode(), (ip, port))\n\u001b[1;32m     28\u001b[0m \u001b[39mprint\u001b[39m(string, end\u001b[39m=\u001b[39m\u001b[39m'\u001b[39m\u001b[39m             \u001b[39m\u001b[39m\\r\u001b[39;00m\u001b[39m'\u001b[39m)\n\u001b[1;32m     29\u001b[0m time\u001b[39m.\u001b[39msleep(\u001b[39m0.1\u001b[39m)\n",
      "\u001b[0;31mOSError\u001b[0m: [Errno 51] Network is unreachable"
     ]
    }
   ],
   "source": [
    "# we connect to a udp server and send the values of 2 axis\n",
    "\n",
    "import socket\n",
    "\n",
    "# create a socket\n",
    "sock = socket.socket(socket.AF_INET, socket.SOCK_DGRAM)\n",
    "ip = '192.168.111.34'\n",
    "port = 1234\n",
    "\n",
    "# we send the values of axis 0 and 1 and the values of button 0\n",
    "while True:\n",
    "    # we send the values of axis 0 and 1 and the values of button 0\n",
    "    pygame.event.pump()\n",
    "    for i in range(joystick.get_numbuttons()):\n",
    "        buttons[i] = joystick.get_button(i)\n",
    "    for i in range(joystick.get_numaxes()):\n",
    "        axis[i] = joystick.get_axis(i)\n",
    "    # we take ax 4 and 5, we add 1 and divide by 2 so we get a value between 0 and 1\n",
    "    axis[4] = (axis[4] + 1) / 2\n",
    "    axis[5] = (axis[5] + 1) / 2\n",
    "    axis[1] = axis[4] - axis[5]\n",
    "    # print(\"test\")\n",
    "    # cut the values to 2 decimals\n",
    "    axis[0] = round(axis[0], 2)\n",
    "    axis[1] = round(axis[1], 2)\n",
    "    string = str(axis[0]) + \",\" + str(axis[1]) + \",\" + str(buttons[0])\n",
    "    sock.sendto(string.encode(), (ip, port))\n",
    "    print(string, end='             \\r')\n",
    "    time.sleep(0.1)"
   ]
  },
  {
   "cell_type": "code",
   "execution_count": null,
   "metadata": {},
   "outputs": [],
   "source": [
    "camera = CSICamera(width=224, height=224)\n",
    "camera.running = True\n",
    "im_number = 0\n",
    "# we take a picture and save it with a name\n",
    "image = camera.read()\n",
    "# we save the 'numpy.ndarray' as a png\n",
    "# the name is the Dataset/axis[0],axis[1],NUMBER.png\n",
    "name = \"Dataset/\" + str(axis[0]) + \",\" + str(axis[1]) + \",\" + str(im_number) + \".png\"\n",
    "im_number += 1\n",
    "print(\"saving image: \" + name)\n",
    "\n",
    "cv2.imwrite(name, image)\n",
    "\n"
   ]
  },
  {
   "cell_type": "code",
   "execution_count": null,
   "metadata": {},
   "outputs": [],
   "source": [
    "import socket\n",
    "\n",
    "# create a socket\n",
    "sock = socket.socket(socket.AF_INET, socket.SOCK_DGRAM)\n",
    "port = 1234\n",
    "sock.bind(('', port))\n",
    "\n",
    "# the button routine must only run once evey time the button is pressed\n",
    "# so we need to keep track of the last state of the button\n",
    "last_button_state = False\n",
    "\n",
    "# we receive the values of axis 0 and 1 and the values of button 0\n",
    "while True:\n",
    "    data, addr = sock.recvfrom(1024)\n",
    "    data = data.decode().split(\",\")\n",
    "    print(data, end='             \\r')\n",
    "    # check if the button is pressed\n",
    "    if data[2] == '1':\n",
    "        # if the button was not pressed before\n",
    "        if not last_button_state:\n",
    "            # do something\n",
    "            print(\"button pressed\")\n",
    "        # set the last button state to true\n",
    "        last_button_state = True\n",
    "    else:\n",
    "        # set the last button state to false\n",
    "        last_button_state = False"
   ]
  }
 ],
 "metadata": {
  "kernelspec": {
   "display_name": "Python 3.10.8 ('py310')",
   "language": "python",
   "name": "python3"
  },
  "language_info": {
   "codemirror_mode": {
    "name": "ipython",
    "version": 3
   },
   "file_extension": ".py",
   "mimetype": "text/x-python",
   "name": "python",
   "nbconvert_exporter": "python",
   "pygments_lexer": "ipython3",
   "version": "3.10.8"
  },
  "orig_nbformat": 4,
  "vscode": {
   "interpreter": {
    "hash": "0979c6b5def387d93e98ce73f9f35fd1b7a3a4db92b8a06b818ed8599a26667a"
   }
  }
 },
 "nbformat": 4,
 "nbformat_minor": 2
}
