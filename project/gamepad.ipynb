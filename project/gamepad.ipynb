{
 "cells": [
  {
   "attachments": {},
   "cell_type": "markdown",
   "metadata": {},
   "source": [
    "# controller in python\n",
    "\n",
    "we have a xbox controller connected to bluetooth\n",
    "\n",
    "we want to use it to control a robot\n",
    "\n",
    "we take the inputs on teh laptop and send them to the robot"
   ]
  },
  {
   "cell_type": "code",
   "execution_count": null,
   "metadata": {},
   "outputs": [
    {
     "name": "stdout",
     "output_type": "stream",
     "text": [
      "Buttons: {0: False, 1: False, 2: False, 3: False, 4: False, 5: False, 6: False, 7: False, 8: False, 9: False, 10: False, 11: False, 12: False, 13: False, 14: False, 15: False} Axis: {0: 0, 1: 0, 2: 0, 3: 0, 4: 0, 5: 0}                    \r"
     ]
    }
   ],
   "source": [
    "# connect to the controller\n",
    "\n",
    "import pygame\n",
    "import time\n",
    "\n",
    "# find the controller\n",
    "pygame.init()\n",
    "pygame.joystick.init()\n",
    "joystick = pygame.joystick.Joystick(0)\n",
    "joystick.init()\n",
    "\n",
    "# we put values if all buttens and axis into a dictionary\n",
    "# so we can easily access them\n",
    "buttons = {}\n",
    "axis = {}\n",
    "\n",
    "# wi initialize the dictionary with all buttons and axis\n",
    "for i in range(joystick.get_numbuttons()):\n",
    "    buttons[i] = False\n",
    "\n",
    "for i in range(joystick.get_numaxes()):\n",
    "    axis[i] = 0\n",
    "\n",
    "# # every 100ms we read the controller and update the dictionary\n",
    "# while True:\n",
    "#     pygame.event.pump()\n",
    "#     for i in range(joystick.get_numbuttons()):\n",
    "#         buttons[i] = joystick.get_button(i)\n",
    "#     for i in range(joystick.get_numaxes()):\n",
    "#         axis[i] = joystick.get_axis(i)\n",
    "#     # print the values but rewrite the 2 lines so we don't get a lot of lines and alway keep the same linewidth so print a lot of spaces\n",
    "print(\"Buttons: \" + str(buttons) + \" Axis: \" + str(axis) + \" \" * 20, end=\"\\r\")\n",
    "#     time.sleep(0.1)\n"
   ]
  },
  {
   "cell_type": "code",
   "execution_count": 13,
   "metadata": {},
   "outputs": [
    {
     "name": "stdout",
     "output_type": "stream",
     "text": [
      "Buttons: {0: 0, 1: 0, 2: 0, 3: 0, 4: 0, 5: 0, 6: 0, 7: 0, 8: 0, 9: 0, 10: 0, 11: 0, 12: 0, 13: 0, 14: 0, 15: 0} Axis: {0: 0.043914794921875, 1: -0.0401611328125, 2: 0.02813720703125, 3: -0.018524169921875, 4: -1.0, 5: -1.0}                             \r"
     ]
    },
    {
     "ename": "OSError",
     "evalue": "[Errno 65] No route to host",
     "output_type": "error",
     "traceback": [
      "\u001b[0;31m---------------------------------------------------------------------------\u001b[0m",
      "\u001b[0;31mOSError\u001b[0m                                   Traceback (most recent call last)",
      "Cell \u001b[0;32mIn [13], line 19\u001b[0m\n\u001b[1;32m     17\u001b[0m     axis[i] \u001b[39m=\u001b[39m joystick\u001b[39m.\u001b[39mget_axis(i)\n\u001b[1;32m     18\u001b[0m string \u001b[39m=\u001b[39m \u001b[39mstr\u001b[39m(axis[\u001b[39m0\u001b[39m]) \u001b[39m+\u001b[39m \u001b[39m\"\u001b[39m\u001b[39m,\u001b[39m\u001b[39m\"\u001b[39m \u001b[39m+\u001b[39m \u001b[39mstr\u001b[39m(axis[\u001b[39m1\u001b[39m]) \u001b[39m+\u001b[39m \u001b[39m\"\u001b[39m\u001b[39m,\u001b[39m\u001b[39m\"\u001b[39m \u001b[39m+\u001b[39m \u001b[39mstr\u001b[39m(buttons[\u001b[39m0\u001b[39m])\n\u001b[0;32m---> 19\u001b[0m sock\u001b[39m.\u001b[39;49msendto(string\u001b[39m.\u001b[39;49mencode(), (ip, port))\n\u001b[1;32m     20\u001b[0m \u001b[39mprint\u001b[39m(\u001b[39m\"\u001b[39m\u001b[39mButtons: \u001b[39m\u001b[39m\"\u001b[39m \u001b[39m+\u001b[39m \u001b[39mstr\u001b[39m(buttons) \u001b[39m+\u001b[39m \u001b[39m\"\u001b[39m\u001b[39m Axis: \u001b[39m\u001b[39m\"\u001b[39m \u001b[39m+\u001b[39m \u001b[39mstr\u001b[39m(axis) \u001b[39m+\u001b[39m \u001b[39m\"\u001b[39m\u001b[39m \u001b[39m\u001b[39m\"\u001b[39m \u001b[39m*\u001b[39m \u001b[39m20\u001b[39m, end\u001b[39m=\u001b[39m\u001b[39m\"\u001b[39m\u001b[39m\\r\u001b[39;00m\u001b[39m\"\u001b[39m)\n\u001b[1;32m     21\u001b[0m time\u001b[39m.\u001b[39msleep(\u001b[39m0.01\u001b[39m)\n",
      "\u001b[0;31mOSError\u001b[0m: [Errno 65] No route to host"
     ]
    }
   ],
   "source": [
    "# we connect to a udp server and send the values of 2 axis\n",
    "\n",
    "import socket\n",
    "\n",
    "# create a socket\n",
    "sock = socket.socket(socket.AF_INET, socket.SOCK_DGRAM)\n",
    "ip = '192.168.111.34'\n",
    "port = 1234\n",
    "\n",
    "# we send the values of axis 0 and 1 and the values of button 0\n",
    "while True:\n",
    "    # we send the values of axis 0 and 1 and the values of button 0\n",
    "    pygame.event.pump()\n",
    "    for i in range(joystick.get_numbuttons()):\n",
    "        buttons[i] = joystick.get_button(i)\n",
    "    for i in range(joystick.get_numaxes()):\n",
    "        axis[i] = joystick.get_axis(i)\n",
    "    string = str(axis[0]) + \",\" + str(axis[1]) + \",\" + str(buttons[0])\n",
    "    sock.sendto(string.encode(), (ip, port))\n",
    "    print(\"Buttons: \" + str(buttons) + \" Axis: \" + str(axis) + \" \" * 20, end=\"\\r\")\n",
    "    time.sleep(0.01)"
   ]
  }
 ],
 "metadata": {
  "kernelspec": {
   "display_name": "Python 3.10.8 ('py310')",
   "language": "python",
   "name": "python3"
  },
  "language_info": {
   "codemirror_mode": {
    "name": "ipython",
    "version": 3
   },
   "file_extension": ".py",
   "mimetype": "text/x-python",
   "name": "python",
   "nbconvert_exporter": "python",
   "pygments_lexer": "ipython3",
   "version": "3.10.8"
  },
  "orig_nbformat": 4,
  "vscode": {
   "interpreter": {
    "hash": "0979c6b5def387d93e98ce73f9f35fd1b7a3a4db92b8a06b818ed8599a26667a"
   }
  }
 },
 "nbformat": 4,
 "nbformat_minor": 2
}
