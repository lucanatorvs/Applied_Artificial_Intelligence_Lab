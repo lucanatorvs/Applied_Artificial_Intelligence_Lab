{
 "cells": [
  {
   "attachments": {},
   "cell_type": "markdown",
   "metadata": {},
   "source": [
    "# controll the robot\n",
    "\n",
    "## import libraries\n"
   ]
  },
  {
   "cell_type": "code",
   "execution_count": null,
   "metadata": {},
   "outputs": [],
   "source": [
    "import cv2\n",
    "import os\n",
    "import random\n",
    "import numpy as np\n",
    "import tensorflow.lite as tflite"
   ]
  },
  {
   "cell_type": "markdown",
   "metadata": {},
   "source": [
    "\n",
    "We need the .tflite file to run the model on the robot. So we start by importing the model. It is in the same folder as the notebook."
   ]
  },
  {
   "cell_type": "code",
   "execution_count": null,
   "metadata": {},
   "outputs": [],
   "source": [
    "tflite_model_filename = \"mini_proj_model_v01_01.tflite\""
   ]
  },
  {
   "cell_type": "code",
   "execution_count": null,
   "metadata": {},
   "outputs": [],
   "source": [
    "interpreter = tflite.Interpreter(tflite_model_filename)\n",
    "interpreter.allocate_tensors()"
   ]
  },
  {
   "cell_type": "code",
   "execution_count": null,
   "metadata": {},
   "outputs": [],
   "source": [
    "input_details = interpreter.get_input_details()\n",
    "output_details = interpreter.get_output_details()\n",
    "input_shape = input_details[0]['shape']"
   ]
  },
  {
   "cell_type": "code",
   "execution_count": null,
   "metadata": {},
   "outputs": [],
   "source": [
    "print(input_shape)"
   ]
  },
  {
   "attachments": {},
   "cell_type": "markdown",
   "metadata": {},
   "source": [
    "## car setup"
   ]
  },
  {
   "cell_type": "markdown",
   "id": "91e828db",
   "metadata": {},
   "source": [
    "#### Initialize the car and camera classes"
   ]
  },
  {
   "cell_type": "markdown",
   "id": "swiss-reynolds",
   "metadata": {},
   "source": [
    "Create the racecar class"
   ]
  },
  {
   "cell_type": "code",
   "execution_count": null,
   "id": "obvious-medicaid",
   "metadata": {},
   "outputs": [],
   "source": [
    "from jetracer.nvidia_racecar import NvidiaRacecar\n",
    "car = NvidiaRacecar()"
   ]
  },
  {
   "cell_type": "markdown",
   "id": "korean-recipe",
   "metadata": {},
   "source": [
    "Create the camera class."
   ]
  },
  {
   "cell_type": "code",
   "execution_count": null,
   "id": "interim-preservation",
   "metadata": {},
   "outputs": [],
   "source": [
    "from jetcam.csi_camera import CSICamera\n",
    "camera = CSICamera(width=224, height=224, capture_fps=65)"
   ]
  },
  {
   "attachments": {},
   "cell_type": "markdown",
   "metadata": {},
   "source": [
    "setup the gains and bias for the drive function"
   ]
  },
  {
   "cell_type": "code",
   "execution_count": null,
   "metadata": {},
   "outputs": [],
   "source": [
    "STEERING_GAIN = 0.6\n",
    "STEERING_BIAS = 0.00\n",
    "THROTTLE_GAIN = 0.8"
   ]
  },
  {
   "cell_type": "code",
   "execution_count": null,
   "metadata": {},
   "outputs": [],
   "source": [
    "def preprocess(image):\n",
    "    assert image.shape == (224,224,3)\n",
    "    # crop the top 80 pixels\n",
    "    image = image[80:,:,:]\n",
    "    # check the input shape of the model and if the last dimension is 1, then convert to grayscale\n",
    "    if input_shape[3] == 1:\n",
    "        # convert to grayscale\n",
    "        image = cv2.cvtColor(image, cv2.COLOR_RGB2GRAY)\n",
    "    # resize to the input shape of the model\n",
    "    image = cv2.resize(image, (input_shape[2], input_shape[1]))\n",
    "    # Scale the images to the range of [0, 1]\n",
    "    image = image / 255.0\n",
    "    return image"
   ]
  },
  {
   "attachments": {},
   "cell_type": "markdown",
   "metadata": {},
   "source": [
    "## driving the car (fully autonomous)"
   ]
  },
  {
   "cell_type": "code",
   "execution_count": null,
   "metadata": {},
   "outputs": [],
   "source": [
    "try:\n",
    "    # main loop\n",
    "    while True:\n",
    "        image = camera.read()\n",
    "        image = preprocess(image)\n",
    "        # add a batch dimension\n",
    "        image = np.expand_dims(image, axis=0)\n",
    "        # set the input tensor\n",
    "        interpreter.set_tensor(input_details[0]['index'], image)\n",
    "        # run the inference\n",
    "        interpreter.invoke()\n",
    "        # get the output tensor\n",
    "        output_data = interpreter.get_tensor(output_details[0]['index'])\n",
    "        # get the steering and throttle values\n",
    "        steering = output_data[0][0]\n",
    "        throttle = output_data[0][1]\n",
    "        # set the car controls\n",
    "        car.steering = steering\n",
    "        car.throttle = throttle\n",
    "\n",
    "except:\n",
    "    car.throttle = 0.0\n",
    "    raise"
   ]
  },
  {
   "attachments": {},
   "cell_type": "markdown",
   "metadata": {},
   "source": [
    "## driving the car (semi-autonomous - manual throttle)"
   ]
  },
  {
   "cell_type": "code",
   "execution_count": null,
   "metadata": {},
   "outputs": [],
   "source": [
    "try:\n",
    "    # main loop\n",
    "    while True:\n",
    "        image = camera.read()\n",
    "        image = preprocess(image)\n",
    "        # add a batch dimension\n",
    "        image = np.expand_dims(image, axis=0)\n",
    "        # set the input tensor\n",
    "        interpreter.set_tensor(input_details[0]['index'], image)\n",
    "        # run the inference\n",
    "        interpreter.invoke()\n",
    "        # get the output tensor\n",
    "        output_data = interpreter.get_tensor(output_details[0]['index'])\n",
    "        # get the steering and throttle values\n",
    "        steering = output_data[0][0]\n",
    "        throttle = output_data[0][1]\n",
    "        # set the car controls\n",
    "        car.steering = steering\n",
    "        car.throttle = throttle\n",
    "\n",
    "except:\n",
    "    car.throttle = 0.0\n",
    "    raise"
   ]
  },
  {
   "attachments": {},
   "cell_type": "markdown",
   "metadata": {},
   "source": [
    "## E stop"
   ]
  },
  {
   "cell_type": "code",
   "execution_count": null,
   "metadata": {},
   "outputs": [],
   "source": [
    "car.throttle = 0.0"
   ]
  }
 ],
 "metadata": {
  "kernelspec": {
   "display_name": "Python 3.10.8 ('aai_lab')",
   "language": "python",
   "name": "python3"
  },
  "language_info": {
   "codemirror_mode": {
    "name": "ipython",
    "version": 3
   },
   "file_extension": ".py",
   "mimetype": "text/x-python",
   "name": "python",
   "nbconvert_exporter": "python",
   "pygments_lexer": "ipython3",
   "version": "3.10.8"
  },
  "orig_nbformat": 4,
  "vscode": {
   "interpreter": {
    "hash": "c148a4cd26e4f153191910e509663017fc090c88cc297ba3ef5842cf5140e93a"
   }
  }
 },
 "nbformat": 4,
 "nbformat_minor": 2
}
